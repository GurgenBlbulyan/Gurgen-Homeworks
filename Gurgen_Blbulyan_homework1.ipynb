{
 "cells": [
  {
   "cell_type": "code",
   "execution_count": 10,
   "metadata": {},
   "outputs": [
    {
     "name": "stdout",
     "output_type": "stream",
     "text": [
      "False\n",
      "True\n",
      "True\n",
      "False\n"
     ]
    }
   ],
   "source": [
    "project=\"cake\" \n",
    "difficulty=\"2\" \n",
    "ingredients=[\"flour\",\"butter\",\"sugar\",\"eggs\",\"cocoa powder\",\"baking powder\"] \n",
    "\n",
    "\n",
    "print(\"apples\"in ingredients) \n",
    "\n",
    "print(\"butter\"in ingredients) \n",
    "\n",
    "print((\"eggs\"in ingredients)or (\"margarine\"in ingredients)) \n",
    "\n",
    "print((\"eggs\"in ingredients)and (\"margarine\"in ingredients)) \n",
    "\n",
    "\n"
   ]
  },
  {
   "cell_type": "code",
   "execution_count": 12,
   "metadata": {},
   "outputs": [
    {
     "name": "stdout",
     "output_type": "stream",
     "text": [
      "<class 'int'>\n",
      "<class 'str'>\n",
      "<class 'int'>\n",
      "<class 'str'>\n",
      "<class 'float'>\n"
     ]
    }
   ],
   "source": [
    "flour=175 \n",
    "butter=175\n",
    "sugar=\"100g\"\n",
    "eggs=2\n",
    "cocoa_powder=\"1ts\"\n",
    "baking_powder=0.5\n",
    "\n",
    "print(type(flour)) \n",
    "print(type(sugar))\n",
    "print(type(eggs))\n",
    "print(type(cocoa_powder))\n",
    "print(type(baking_powder))"
   ]
  },
  {
   "cell_type": "code",
   "execution_count": 18,
   "metadata": {},
   "outputs": [
    {
     "name": "stdout",
     "output_type": "stream",
     "text": [
      "flour - 175\n",
      "butter - 175\n",
      "sugar - 100g\n",
      "eggs - 2\n",
      "cocoa_powder - 1ts\n",
      "baking_powder - 0.5\n"
     ]
    }
   ],
   "source": [
    "print(\"flour -\" ,flour) \n",
    "print(\"butter -\" ,butter)\n",
    "print(\"sugar -\",sugar)\n",
    "print(\"eggs -\",eggs)\n",
    "print(\"cocoa_powder -\",cocoa_powder)\n",
    "print(\"baking_powder -\",baking_powder)"
   ]
  },
  {
   "cell_type": "code",
   "execution_count": 22,
   "metadata": {},
   "outputs": [
    {
     "name": "stdout",
     "output_type": "stream",
     "text": [
      "cake\n",
      "2\n",
      "['flour', 'butter', 'sugar', 'eggs', 'cocoa powder', 'baking powder']\n"
     ]
    }
   ],
   "source": [
    "project,difficulty,ingredients=\"cake\" ,\"2\",[\"flour\",\"butter\",\"sugar\",\"eggs\",\"cocoa powder\",\"baking powder\"] #SecondVersion\n",
    "print(project)\n",
    "print(difficulty)\n",
    "print(ingredients)"
   ]
  },
  {
   "cell_type": "code",
   "execution_count": 24,
   "metadata": {},
   "outputs": [
    {
     "name": "stdout",
     "output_type": "stream",
     "text": [
      "1003.0\n",
      "852\n"
     ]
    }
   ],
   "source": [
    "a=15 \n",
    "b=8\n",
    "c=2\n",
    "print(5*(a**2)-a*b+(a%2)-a/5)\n",
    "print(b**3+3*a*b-10*c)"
   ]
  },
  {
   "cell_type": "code",
   "execution_count": 25,
   "metadata": {},
   "outputs": [],
   "source": [
    "import datetime \n",
    "import time\n",
    "import calendar"
   ]
  },
  {
   "cell_type": "code",
   "execution_count": 49,
   "metadata": {},
   "outputs": [
    {
     "name": "stdout",
     "output_type": "stream",
     "text": [
      "Date  1998-06-08\n",
      "Year  1998\n",
      "Month  6\n",
      "Day  8\n",
      "Day of the week (version 0)  1\n",
      "Day of the week (version 1)  0\n",
      "2018-09-19\n",
      "Days until my next birthday  262 days, 0:00:00\n"
     ]
    }
   ],
   "source": [
    "bday=datetime.date(1998, 6, 8)\n",
    "print('Date ', bday)\n",
    "print('Year ', bday.year)\n",
    "print('Month ', bday.month)\n",
    "print('Day ', bday.day)\n",
    "print('Day of the week (version 0) ', bday.isoweekday())\n",
    "print('Day of the week (version 1) ', bday.weekday())\n",
    "tday = datetime.date.today()\n",
    "print(tday)\n",
    "nextbday = datetime.date(2019, 6, 8)\n",
    "till_bday = nextbday - tday\n",
    "print(\"Days until my next birthday \", till_bday)"
   ]
  },
  {
   "cell_type": "code",
   "execution_count": 32,
   "metadata": {},
   "outputs": [
    {
     "name": "stdout",
     "output_type": "stream",
     "text": [
      "      May 2017\n",
      "Mo Tu We Th Fr Sa Su\n",
      " 1  2  3  4  5  6  7\n",
      " 8  9 10 11 12 13 14\n",
      "15 16 17 18 19 20 21\n",
      "22 23 24 25 26 27 28\n",
      "29 30 31\n",
      "\n"
     ]
    }
   ],
   "source": [
    "calendar = calendar.month(2017, 5)\n",
    "print (calendar)"
   ]
  },
  {
   "cell_type": "code",
   "execution_count": 43,
   "metadata": {},
   "outputs": [
    {
     "name": "stdout",
     "output_type": "stream",
     "text": [
      "Yesterday 2018-09-18\n",
      "Current time  Wed Sep 19 20:19:30 2018\n",
      "2018-09-20\n",
      "2018-09-15\n"
     ]
    }
   ],
   "source": [
    "tday = datetime.date.today()\n",
    "tdelta = datetime.timedelta(days = 1)\n",
    "yesterday=tday-tdelta\n",
    "print(\"Yesterday\" ,yesterday)\n",
    "print (\"Current time \", time.asctime())\n",
    "print(yesterday+datetime.timedelta(days = 2))\n",
    "print(yesterday-datetime.timedelta(days = 3))\n"
   ]
  },
  {
   "cell_type": "code",
   "execution_count": 46,
   "metadata": {},
   "outputs": [
    {
     "name": "stdout",
     "output_type": "stream",
     "text": [
      "1\n",
      "1\n",
      "0\n",
      "0\n"
     ]
    }
   ],
   "source": [
    "print(3%2) \n",
    "print(5%2)\n",
    "print(6%2)\n",
    "print(8%2)"
   ]
  },
  {
   "cell_type": "code",
   "execution_count": 48,
   "metadata": {},
   "outputs": [
    {
     "name": "stdout",
     "output_type": "stream",
     "text": [
      "3 -odd\n",
      "5 -odd\n",
      "6 -even\n",
      "8 -even\n"
     ]
    }
   ],
   "source": [
    "print('3 -'+ 'odd')\n",
    "print('5 -'+'odd')\n",
    "print('6 -'+'even')\n",
    "print('8 -'+'even')"
   ]
  }
 ],
 "metadata": {
  "kernelspec": {
   "display_name": "Python 3",
   "language": "python",
   "name": "python3"
  },
  "language_info": {
   "codemirror_mode": {
    "name": "ipython",
    "version": 3
   },
   "file_extension": ".py",
   "mimetype": "text/x-python",
   "name": "python",
   "nbconvert_exporter": "python",
   "pygments_lexer": "ipython3",
   "version": "3.6.5"
  }
 },
 "nbformat": 4,
 "nbformat_minor": 2
}
