{
 "cells": [
  {
   "cell_type": "code",
   "execution_count": 18,
   "metadata": {},
   "outputs": [
    {
     "name": "stdout",
     "output_type": "stream",
     "text": [
      "1\n",
      "2\n",
      "3\n",
      "4\n",
      "5\n",
      "6\n",
      "7\n",
      "6\n"
     ]
    }
   ],
   "source": [
    "#1.1\n",
    "list1=[3,6,True,True,-1,'abc',(1,2),[2,3],6]\n",
    "for i in range(len(list1)):\n",
    "    print(i+1)\n",
    "    if type(list1[i])==tuple:\n",
    "        print(i)\n",
    "        break"
   ]
  },
  {
   "cell_type": "code",
   "execution_count": 22,
   "metadata": {},
   "outputs": [
    {
     "name": "stdout",
     "output_type": "stream",
     "text": [
      "1\n",
      "2\n",
      "3\n",
      "4\n",
      "5\n",
      "6\n",
      "7\n",
      "6\n"
     ]
    }
   ],
   "source": [
    "#1.2\n",
    "list1=[3,6,True,True,-1,'abc',(1,2),[2,3],6]\n",
    "for i in range(len(list1)):\n",
    "    print(len(list1[:i+1]))\n",
    "    if type(list1[i])==tuple:\n",
    "        print(i)\n",
    "        break"
   ]
  },
  {
   "cell_type": "code",
   "execution_count": 2,
   "metadata": {},
   "outputs": [
    {
     "name": "stdout",
     "output_type": "stream",
     "text": [
      "Username : swgs\n",
      "Password : hsh\n",
      "Username : Batman\n",
      "Password : I am Batman\n",
      "Welcom\n"
     ]
    }
   ],
   "source": [
    "#2\n",
    "username=input(\"Username : \")\n",
    "password=input(\"Password : \")\n",
    "while username!=\"Batman\" or password!=\"I am Batman\":\n",
    "    username=input(\"Username : \")\n",
    "    password=input(\"Password : \")\n",
    "print(\"Welcom\")   \n",
    "    \n",
    "\n",
    "    "
   ]
  },
  {
   "cell_type": "code",
   "execution_count": 36,
   "metadata": {},
   "outputs": [
    {
     "name": "stdout",
     "output_type": "stream",
     "text": [
      "[[1, 2, 2, 2], [2, 1, 2, 2], [2, 2, 1, 2], [2, 2, 2, 1]]\n"
     ]
    }
   ],
   "source": [
    "#3\n",
    "a=4*[4*[0]] #karch tarberakov senc a linum bayc senc chi linum poxel mer uzac elementy ...orinaky nerqevum\n",
    "a=[[0, 0, 0, 0], [0, 0, 0, 0], [0, 0, 0, 0], [0, 0, 0, 0]]\n",
    "for i in range(len(a)):\n",
    "    for j in range(len(a[0])):\n",
    "        if i==j:\n",
    "            a[i][j]=1\n",
    "        else :\n",
    "            a[i][j]=2\n",
    "      \n",
    "print(a)"
   ]
  },
  {
   "cell_type": "code",
   "execution_count": 4,
   "metadata": {},
   "outputs": [
    {
     "name": "stdout",
     "output_type": "stream",
     "text": [
      "[[0, 0, 0, 0], [0, 0, 0, 0], [0, 0, 0, 0], [0, 0, 0, 0]]\n"
     ]
    },
    {
     "data": {
      "text/plain": [
       "[[2, 0, 0, 0], [2, 0, 0, 0], [2, 0, 0, 0], [2, 0, 0, 0]]"
      ]
     },
     "execution_count": 4,
     "metadata": {},
     "output_type": "execute_result"
    }
   ],
   "source": [
    "a=4*[4*[0]]\n",
    "print(a)\n",
    "a[0][0]=2\n",
    "a\n"
   ]
  },
  {
   "cell_type": "code",
   "execution_count": 1,
   "metadata": {},
   "outputs": [
    {
     "name": "stdout",
     "output_type": "stream",
     "text": [
      "Password: Airittlmsms\n",
      "Password: kaksjr6kkslzlk\n",
      "Password: A6orkmskmllALmlmewwme\n",
      "Welcome\n"
     ]
    }
   ],
   "source": [
    "#extr1\n",
    "def mectar(gaxt):\n",
    "    c=0\n",
    "    alp='ABCDEFGHIJKLMNOPQRSTUVWXYZ'\n",
    "    for i in alp :\n",
    "        if i in gaxt:\n",
    "            c=c+1\n",
    "    return c\n",
    "def tiv(er):\n",
    "    ertr=str(er)\n",
    "    b=0\n",
    "    di=\"0123456789\"\n",
    "    for j in di:\n",
    "        if j in ertr :\n",
    "            b=b+1\n",
    "    return b\n",
    "password=input(\"Password: \")\n",
    "p=str(password)\n",
    "while len(p)<8 or mectar(gaxt=p)==0  or tiv(er=p)==0:\n",
    "        password=input(\"Password: \")\n",
    "        p=str(password)\n",
    "if len(p)>7 and mectar(gaxt=p)>0 and tiv(er=p)>0:\n",
    "    print('Welcome')"
   ]
  },
  {
   "cell_type": "code",
   "execution_count": 74,
   "metadata": {},
   "outputs": [
    {
     "name": "stdout",
     "output_type": "stream",
     "text": [
      "Input number to find factorial: 7\n",
      "5040\n"
     ]
    }
   ],
   "source": [
    "#extr2\n",
    "n=int(input(\"Input number to find factorial: \"))\n",
    "a=1\n",
    "for i in range(n):\n",
    "    a=a*(i+1)\n",
    "print(a)"
   ]
  }
 ],
 "metadata": {
  "kernelspec": {
   "display_name": "Python 3",
   "language": "python",
   "name": "python3"
  },
  "language_info": {
   "codemirror_mode": {
    "name": "ipython",
    "version": 3
   },
   "file_extension": ".py",
   "mimetype": "text/x-python",
   "name": "python",
   "nbconvert_exporter": "python",
   "pygments_lexer": "ipython3",
   "version": "3.6.5"
  }
 },
 "nbformat": 4,
 "nbformat_minor": 2
}
