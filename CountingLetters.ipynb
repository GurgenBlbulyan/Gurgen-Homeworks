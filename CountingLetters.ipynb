{
 "cells": [
  {
   "cell_type": "code",
   "execution_count": 4,
   "metadata": {},
   "outputs": [
    {
     "name": "stdout",
     "output_type": "stream",
     "text": [
      "Input Text: Es im anush Hayastani arevaham barnem sirum\n",
      "a: 8\n",
      "b: 1\n",
      "c: 0\n",
      "d: 0\n",
      "e: 3\n",
      "f: 0\n",
      "g: 0\n",
      "h: 3\n",
      "i: 3\n",
      "g: 0\n",
      "k: 0\n",
      "l: 0\n",
      "m: 4\n",
      "n: 3\n",
      "o: 0\n",
      "p: 0\n",
      "q: 0\n",
      "r: 3\n",
      "s: 4\n",
      "t: 1\n",
      "u: 2\n",
      "v: 1\n",
      "w: 0\n",
      "x: 0\n",
      "y: 1\n",
      "z: 0\n"
     ]
    }
   ],
   "source": [
    "Word=input(\"Input Text: \")\n",
    "ww=Word.lower()\n",
    "\n",
    "print(\"a: %s\" % ww.count(\"a\") )\n",
    "print(\"b: %s\" % ww.count(\"b\") )\n",
    "print(\"c: %s\" % ww.count(\"c\") )\n",
    "print(\"d: %s\" % ww.count(\"d\") )\n",
    "print(\"e: %s\" % ww.count(\"e\") )\n",
    "print(\"f: %s\" % ww.count(\"f\") )\n",
    "print(\"g: %s\" % ww.count(\"g\") )\n",
    "print(\"h: %s\" % ww.count(\"h\") )\n",
    "print(\"i: %s\" % ww.count(\"i\") )\n",
    "print(\"g: %s\" % ww.count(\"g\") )\n",
    "print(\"k: %s\" % ww.count(\"k\") )\n",
    "print(\"l: %s\" % ww.count(\"l\") )\n",
    "print(\"m: %s\" % ww.count(\"m\") )\n",
    "print(\"n: %s\" % ww.count(\"n\") )\n",
    "print(\"o: %s\" % ww.count(\"o\") )\n",
    "print(\"p: %s\" % ww.count(\"p\") )\n",
    "print(\"q: %s\" % ww.count(\"q\") )\n",
    "print(\"r: %s\" % ww.count(\"r\") )\n",
    "print(\"s: %s\" % ww.count(\"s\") )\n",
    "print(\"t: %s\" % ww.count(\"t\") )\n",
    "print(\"u: %s\" % ww.count(\"u\") )\n",
    "print(\"v: %s\" % ww.count(\"v\") )\n",
    "print(\"w: %s\" % ww.count(\"w\") )\n",
    "print(\"x: %s\" % ww.count(\"x\") )\n",
    "print(\"y: %s\" % ww.count(\"y\") )\n",
    "print(\"z: %s\" % ww.count(\"z\") )\n"
   ]
  },
  {
   "cell_type": "code",
   "execution_count": null,
   "metadata": {},
   "outputs": [],
   "source": []
  }
 ],
 "metadata": {
  "kernelspec": {
   "display_name": "Python 3",
   "language": "python",
   "name": "python3"
  },
  "language_info": {
   "codemirror_mode": {
    "name": "ipython",
    "version": 3
   },
   "file_extension": ".py",
   "mimetype": "text/x-python",
   "name": "python",
   "nbconvert_exporter": "python",
   "pygments_lexer": "ipython3",
   "version": "3.6.5"
  }
 },
 "nbformat": 4,
 "nbformat_minor": 2
}
